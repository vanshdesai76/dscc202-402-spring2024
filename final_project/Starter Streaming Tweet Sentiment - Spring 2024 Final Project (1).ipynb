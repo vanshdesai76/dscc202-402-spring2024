{
 "cells": [
  {
   "cell_type": "markdown",
   "metadata": {
    "application/vnd.databricks.v1+cell": {
     "cellMetadata": {},
     "inputWidgets": {},
     "nuid": "fc749083-2211-485c-943f-640e198b2c70",
     "showTitle": false,
     "title": ""
    }
   },
   "source": [
    "## DSCC202-402 Data Science at Scale Final Project\n",
    "### Tracking Tweet sentiment at scale using a pretrained transformer (classifier)\n",
    "<p>Consider the following illustration of the end to end system that you will be building.  Each student should do their own work.  The project will demonstrate your understanding of Spark Streaming, the medalion data architecture using Delta Lake, Spark Inference at Scale using an MLflow packaged model as well as Exploritory Data Analysis and System Tracking and Monitoring.</p>\n",
    "<br><br>\n",
    "<img src=\"https://data-science-at-scale.s3.amazonaws.com/images/pipeline.drawio.png\">\n",
    "\n",
    "<p>\n",
    "You will be pulling an updated copy of the course GitHub repositiory: <a href=\"https://github.com/lpalum/dscc202-402-spring2024\">The Repo</a>.  If you are unclear on how to pull an updated copy using the GitHub command line, the following <a href=\"https://techwritingmatters.com/how-to-update-your-forked-repository-on-github\">document</a> is helpful.  Be sure to add the professors and TAs as collaborators on your project. \n",
    "\n",
    "- lpalum@gmail.com GitHub ID: lpalum\n",
    "- ajay.anand@rochester.edu GitHub ID: ajayan12\n",
    "- divyamunot1999@gmail.com GitHub ID: divyamunot\n",
    "- ylong6@u.Rochester.edu GitHub ID: NinaLong2077\n",
    "\n",
    "Once you have updates your fork of the repository you should see the following template project that is resident in the final_project directory.\n",
    "</p>\n",
    "\n",
    "<img src=\"https://data-science-at-scale.s3.amazonaws.com/images/notebooks.drawio.png\">\n",
    "\n",
    "<p>\n",
    "You can then pull your project into the Databrick Workspace using the <a href=\"https://www.databricks.training/step-by-step/importing-courseware-from-github/index.html\">Repos</a> feature.\n",
    "Each student is expected to submit the URL of their project on GitHub with their code checked in on the main/master branch.  This illustration highlights the branching scheme that you may use to work on your code in steps and then merge your submission into your master branch before submitting.\n",
    "</p>\n",
    "<img src=\"https://data-science-at-scale.s3.amazonaws.com/images/github.drawio.png\">\n",
    "<p>\n",
    "Work your way through this notebook which will give you the steps required to submit a complete and compliant project.  The following illustration and associated data dictionary specifies the transformations and data that you are to generate for each step in the medallion pipeline.\n",
    "</p>\n",
    "<br><br>\n",
    "<img src=\"https://data-science-at-scale.s3.amazonaws.com/images/dataframes.drawio.png\">\n",
    "\n",
    "#### Bronze Data - raw ingest\n",
    "- date - string in the source json\n",
    "- user - string in the source json\n",
    "- text - tweet string in the source json\n",
    "- sentiment - the given sentiment of the text as determined by an unknown model that is provided in the source json\n",
    "- source_file - the path of the source json file the this row of data was read from\n",
    "- processing_time - a timestamp of when you read this row from the source json\n",
    "\n",
    "#### Silver Data - Bronze Preprocessing\n",
    "- timestamp - convert date string in the bronze data to a timestamp\n",
    "- mention - every @username mentioned in the text string in the bronze data gets a row in this silver data table.\n",
    "- cleaned_text - the bronze text data with the mentions (@username) removed.\n",
    "- sentiment - the given sentiment that was associated with the text in the bronze table.\n",
    "\n",
    "#### Gold Data - Silver Table Inference\n",
    "- timestamp - the timestamp from the silver data table rows\n",
    "- mention - the mention from the silver data table rows\n",
    "- cleaned_text - the cleaned_text from the silver data table rows\n",
    "- sentiment - the given sentiment from the silver data table rows\n",
    "- predicted_score - score out of 100 from the Hugging Face Sentiment Transformer\n",
    "- predicted_sentiment - string representation of the sentiment\n",
    "- sentiment_id - 0 for negative and 1 for postive associated with the given sentiment\n",
    "- predicted_sentiment_id - 0 for negative and 1 for positive assocaited with the Hugging Face Sentiment Transformer\n",
    "\n",
    "#### Application Data - Gold Table Aggregation\n",
    "- min_timestamp - the oldest timestamp on a given mention (@username)\n",
    "- max_timestamp - the newest timestamp on a given mention (@username)\n",
    "- mention - the user (@username) that this row pertains to.\n",
    "- negative - total negative tweets directed at this mention (@username)\n",
    "- neutral - total neutral tweets directed at this mention (@username)\n",
    "- positive - total positive tweets directed at this mention (@username)\n",
    "\n",
    "When you are designing your approach, one of the main decisions that you will need to make is how you are going to orchestrate the streaming data processing in your pipeline.  There are several valid approaches.  First, you may choose to start the bronze_stream and let it complete (read and append all of the source data) before preceeding and starting up the silver_stream.  This approach has latency associated with it but it will allow your code to proceed in a linear fashion and process all the data by the end of your notebook execution.  Another potential approach is to start all the streams and have a \"watch\" method to determine when the pipeline has processed sufficient or all of the source data before stopping and displaying results.  Both of these approaches are valid and have different implications on how you will trigger your steams and how you will gate the execution of your pipeline.  Think through how you want to proceed and ask questions if you need guidance. The following references may be helpful:\n",
    "- [Spark Structured Streaming Programming Guide](https://spark.apache.org/docs/latest/structured-streaming-programming-guide.html)\n",
    "- [Databricks Autoloader - Cloudfiles](https://docs.databricks.com/en/ingestion/auto-loader/index.html)\n",
    "\n",
    "### Be sure that your project runs end to end when *Run all* is executued on this notebook! (15 Points out of 60)"
   ]
  },
  {
   "cell_type": "code",
   "execution_count": 0,
   "metadata": {
    "application/vnd.databricks.v1+cell": {
     "cellMetadata": {
      "byteLimit": 2048000,
      "rowLimit": 10000
     },
     "inputWidgets": {},
     "nuid": "068f25d0-1387-4342-89cf-ce82a8d614ce",
     "showTitle": true,
     "title": "Pull in the Includes & Utiltites"
    }
   },
   "outputs": [],
   "source": [
    "%run ./includes/includes"
   ]
  },
  {
   "cell_type": "code",
   "execution_count": 0,
   "metadata": {
    "application/vnd.databricks.v1+cell": {
     "cellMetadata": {
      "byteLimit": 2048000,
      "rowLimit": 10000
     },
     "inputWidgets": {},
     "nuid": "6512bf1b-50e0-4a4b-84a9-e280a6260b56",
     "showTitle": true,
     "title": "Notebook Control Widgets (maybe helpful)"
    }
   },
   "outputs": [],
   "source": [
    "\"\"\"\n",
    "Adding a widget to the notebook to control the clearing of a previous run.\n",
    "or stopping the active streams using routines defined in the utilities notebook\n",
    "\"\"\"\n",
    "dbutils.widgets.removeAll()\n",
    "\n",
    "dbutils.widgets.dropdown(\"clear_previous_run\", \"No\", [\"No\",\"Yes\"])\n",
    "if (getArgument(\"clear_previous_run\") == \"Yes\"):\n",
    "    clear_previous_run()\n",
    "    print(\"Cleared all previous data.\")\n",
    "\n",
    "dbutils.widgets.dropdown(\"stop_streams\", \"No\", [\"No\",\"Yes\"])\n",
    "if (getArgument(\"stop_streams\") == \"Yes\"):\n",
    "    stop_all_streams()\n",
    "    print(\"Stopped all active streams.\")\n",
    "\n",
    "from delta import *\n",
    "dbutils.widgets.dropdown(\"optimize_tables\", \"No\", [\"No\",\"Yes\"])\n",
    "if (getArgument(\"optimize_tables\") == \"Yes\"):\n",
    "    # Suck up those small files that we have been appending.\n",
    "    DeltaTable.forPath(spark, BRONZE_DELTA).optimize().executeCompaction()\n",
    "    # Suck up those small files that we have been appending.\n",
    "    DeltaTable.forPath(spark, SILVER_DELTA).optimize().executeCompaction()\n",
    "    # Suck up those small files that we have been appending.\n",
    "    DeltaTable.forPath(spark, GOLD_DELTA).optimize().executeCompaction()\n",
    "    print(\"Optimized all of the Delta Tables\")"
   ]
  },
  {
   "cell_type": "markdown",
   "metadata": {
    "application/vnd.databricks.v1+cell": {
     "cellMetadata": {},
     "inputWidgets": {},
     "nuid": "e8ce7c13-7f8f-4e11-b50c-fdaebbcf3f99",
     "showTitle": false,
     "title": ""
    }
   },
   "source": [
    "## 1.0 Import your libraries here...\n",
    "- Are your shuffle partitions consistent with your cluster and your workload?\n",
    "- Do you have the necessary libraries to perform the required operations in the pipeline/application?"
   ]
  },
  {
   "cell_type": "code",
   "execution_count": 0,
   "metadata": {
    "application/vnd.databricks.v1+cell": {
     "cellMetadata": {
      "byteLimit": 2048000,
      "rowLimit": 10000
     },
     "inputWidgets": {},
     "nuid": "67bafbb7-d34e-4e86-b159-b2e062faa1d0",
     "showTitle": false,
     "title": ""
    }
   },
   "outputs": [],
   "source": [
    "from pyspark.sql.types import StructType, StructField, StringType, IntegerType, DoubleType,TimestampType\n",
    "from pyspark.sql.functions import current_timestamp\n",
    "from pyspark.sql.functions import lit\n",
    "from pyspark.sql import DataFrame\n",
    "from pyspark.sql.functions import col, count, when\n",
    "import matplotlib.pyplot as plt\n",
    "from transformers import pipeline\n",
    "from pyspark.sql.functions import col, from_unixtime, unix_timestamp, regexp_extract, regexp_replace,collect_list\n",
    "spark.conf.set(\"spark.sql.legacy.timeParserPolicy\", \"LEGACY\")\n",
    "from pyspark.sql import SparkSession\n",
    "from pyspark.sql.functions import col, udf\n",
    "from pyspark.sql.types import StringType, IntegerType, FloatType\n",
    "import mlflow.pyfunc\n",
    "import pandas as pd\n",
    "from pyspark.sql import SparkSession\n",
    "from pyspark.sql.functions import col, pandas_udf\n",
    "from pyspark.sql.types import IntegerType, StringType, FloatType\n",
    "import mlflow.pyfunc\n",
    "from sklearn.metrics import precision_score, recall_score, f1_score, confusion_matrix, ConfusionMatrixDisplay\n",
    "import matplotlib.pyplot as plt\n",
    "from pyspark.sql.functions import col\n",
    "import matplotlib.pyplot as plt"
   ]
  },
  {
   "cell_type": "markdown",
   "metadata": {
    "application/vnd.databricks.v1+cell": {
     "cellMetadata": {},
     "inputWidgets": {},
     "nuid": "2b7624b4-0aa5-46b7-9767-52f462b2c574",
     "showTitle": false,
     "title": ""
    }
   },
   "source": [
    "## 2.0 Use the utility functions to ...\n",
    "- Read the source file directory listing\n",
    "- Count the source files (how many are there?)\n",
    "- print the contents of one of the files"
   ]
  },
  {
   "cell_type": "code",
   "execution_count": 0,
   "metadata": {
    "application/vnd.databricks.v1+cell": {
     "cellMetadata": {
      "byteLimit": 2048000,
      "implicitDf": true,
      "rowLimit": 10000
     },
     "inputWidgets": {},
     "nuid": "a59749d5-e45d-460f-9be1-33652cda2ea5",
     "showTitle": false,
     "title": ""
    }
   },
   "outputs": [],
   "source": [
    "# Directory containing the source files\n",
    "source_directory = \"s3a://voc-75-databricks-data/voc_volume/\"\n",
    "\n",
    "# Function to count the source files and print their contents\n",
    "def read_source_files(directory):\n",
    "    # List all files in the directory\n",
    "    files = dbutils.fs.ls(directory)\n",
    "    \n",
    "    # Count the number of source files\n",
    "    num_files = len(files)\n",
    "    print(\"Number of source files:\", num_files)\n",
    "    \n",
    "    # Print the contents of one of the files (assuming at least one file exists)\n",
    "    if num_files > 0:\n",
    "        # Selecting the first file for demonstration\n",
    "        file_to_read = files[0].path\n",
    "        df = spark.read.json(file_to_read)\n",
    "        df.show()\n",
    "# Call the function with the source directory\n",
    "read_source_files(source_directory)\n"
   ]
  },
  {
   "cell_type": "markdown",
   "metadata": {
    "application/vnd.databricks.v1+cell": {
     "cellMetadata": {},
     "inputWidgets": {},
     "nuid": "1676aed7-527f-4ea7-9d3b-52544e8c1e37",
     "showTitle": false,
     "title": ""
    }
   },
   "source": [
    "## 3.0 Transform the Raw Data to Bronze Data using a stream\n",
    "- define the schema for the raw data\n",
    "- setup a read stream using cloudfiles and the source data format\n",
    "- setup a write stream using cloudfiles to append to the bronze delta table\n",
    "- enforce schema\n",
    "- allow a new schema to be merged into the bronze delta table\n",
    "- Use the defined BRONZE_CHECKPOINT and BRONZE_DELTA paths defines in the includes\n",
    "- name your raw to bronze stream as bronze_stream\n",
    "- transform the raw data to the bronze data using the data definition at the top of the notebook"
   ]
  },
  {
   "cell_type": "markdown",
   "metadata": {
    "application/vnd.databricks.v1+cell": {
     "cellMetadata": {},
     "inputWidgets": {},
     "nuid": "bf33e5e3-479f-43dc-919e-7238d16f5f8a",
     "showTitle": false,
     "title": ""
    }
   },
   "source": [
    "**1. define the schema for the raw data**"
   ]
  },
  {
   "cell_type": "code",
   "execution_count": 0,
   "metadata": {
    "application/vnd.databricks.v1+cell": {
     "cellMetadata": {
      "byteLimit": 2048000,
      "rowLimit": 10000
     },
     "inputWidgets": {},
     "nuid": "c4e37574-9885-4908-bf97-609d140a8818",
     "showTitle": false,
     "title": ""
    }
   },
   "outputs": [],
   "source": [
    "# Defining the Schema\n",
    "raw_data_schema = StructType([\n",
    "    StructField(\"date\", StringType(), nullable=True),\n",
    "    StructField(\"sentiment\", StringType(), nullable=True),\n",
    "    StructField(\"text\", StringType(), nullable=True),\n",
    "    StructField(\"user\", StringType(), nullable=True),\n",
    "    StructField(\"source_file\", StringType(), nullable=True),\n",
    "    StructField(\"processing_time\",TimestampType(), nullable=True)\n",
    "    # Add more fields as needed\n",
    "])"
   ]
  },
  {
   "cell_type": "markdown",
   "metadata": {
    "application/vnd.databricks.v1+cell": {
     "cellMetadata": {},
     "inputWidgets": {},
     "nuid": "cbd41241-dfa0-4460-a700-a103e5bdfa22",
     "showTitle": false,
     "title": ""
    }
   },
   "source": [
    "**2. setup a read stream using cloudfiles and the source data format**"
   ]
  },
  {
   "cell_type": "code",
   "execution_count": 0,
   "metadata": {
    "application/vnd.databricks.v1+cell": {
     "cellMetadata": {
      "byteLimit": 2048000,
      "rowLimit": 10000
     },
     "inputWidgets": {},
     "nuid": "d6040f32-b62f-48c1-8618-e7053d263cdb",
     "showTitle": false,
     "title": ""
    }
   },
   "outputs": [],
   "source": [
    "# setup a read stream using cloudfiles and the source data format\n",
    "raw_stream=(spark.readStream\n",
    "    .format(\"cloudFiles\")\n",
    "    .option(\"cloudFiles.format\", \"json\")\n",
    "    .schema(raw_data_schema)\n",
    "    .load(TWEET_SOURCE_PATH)\\\n",
    "    .withColumn(\"source_file\", lit(TWEET_SOURCE_PATH))\n",
    "    .withColumn(\"processing_time\", current_timestamp())\n",
    ")"
   ]
  },
  {
   "cell_type": "markdown",
   "metadata": {
    "application/vnd.databricks.v1+cell": {
     "cellMetadata": {},
     "inputWidgets": {},
     "nuid": "ee34cc00-721d-4e82-acbe-30d582e0d8a6",
     "showTitle": false,
     "title": ""
    }
   },
   "source": [
    "%md\n",
    "**3. setup a write stream using cloudfiles to append to the bronze delta table**"
   ]
  },
  {
   "cell_type": "code",
   "execution_count": 0,
   "metadata": {
    "application/vnd.databricks.v1+cell": {
     "cellMetadata": {
      "byteLimit": 2048000,
      "rowLimit": 10000
     },
     "inputWidgets": {},
     "nuid": "57a2d9e7-7f02-492d-9dde-08ecd1180441",
     "showTitle": false,
     "title": ""
    }
   },
   "outputs": [],
   "source": [
    "# setup a write stream using cloudfiles to append to the bronze delta table\n",
    "brownz_data_1=(raw_stream\n",
    "      .writeStream\n",
    "      .format(\"delta\")\n",
    "      .option(\"checkpointLocation\", BRONZE_CHECKPOINT)\n",
    "      .option(\"mergeSchema\", \"true\")\n",
    "      .option(\"path\",BRONZE_DELTA)\n",
    "      .outputMode(\"append\")\n",
    "      .table(\"bronze_table\"))\n",
    "\n"
   ]
  },
  {
   "cell_type": "markdown",
   "metadata": {
    "application/vnd.databricks.v1+cell": {
     "cellMetadata": {},
     "inputWidgets": {},
     "nuid": "9bc3e824-d218-43e5-a43b-4c6dbe31950d",
     "showTitle": false,
     "title": ""
    }
   },
   "source": [
    "## 4.0 Bronze Data Exploratory Data Analysis\n",
    "- How many tweets are captured in your Bronze Table?\n",
    "- Are there any columns that contain Nan or Null values?  If so how many and what will you do in your silver transforms to address this?\n",
    "- Count the number of tweets by each unique user handle and sort the data by descending count.\n",
    "- How many tweets have at least one mention (@) how many tweet have no mentions (@)\n",
    "- Plot a bar chart that shows the top 20 tweeters (users)\n"
   ]
  },
  {
   "cell_type": "code",
   "execution_count": 0,
   "metadata": {
    "application/vnd.databricks.v1+cell": {
     "cellMetadata": {
      "byteLimit": 2048000,
      "implicitDf": true,
      "rowLimit": 10000
     },
     "inputWidgets": {},
     "nuid": "091ec59c-d968-4acf-b56f-cc9178cd0693",
     "showTitle": false,
     "title": ""
    }
   },
   "outputs": [],
   "source": [
    "\n",
    "%sql\n",
    "SELECT COUNT(*) FROM BRONZE_DELTA"
   ]
  },
  {
   "cell_type": "code",
   "execution_count": 0,
   "metadata": {
    "application/vnd.databricks.v1+cell": {
     "cellMetadata": {
      "byteLimit": 2048000,
      "implicitDf": true,
      "rowLimit": 10000
     },
     "inputWidgets": {},
     "nuid": "d1f5f598-090f-4bc6-9c82-eaaec1a3a15c",
     "showTitle": false,
     "title": ""
    }
   },
   "outputs": [],
   "source": [
    "%python\n",
    "def count_nulls(df: DataFrame) -> DataFrame:\n",
    "    exprs = [count(when(col(c).isNull(), c)).alias(c + '_nulls') for c in df.columns]\n",
    "    null_counts_df = df.select(exprs)\n",
    "    return null_counts_df\n",
    "\n",
    "# Assuming df is your DataFrame loaded from the BRONZE_DELTA table\n",
    "# Load your DataFrame\n",
    "df_bronze = spark.read.table(\"BRONZE_DELTA\")\n",
    "\n",
    "# Call the function to get null counts\n",
    "null_counts = count_nulls(df_bronze)\n",
    "\n",
    "# Show the result\n",
    "null_counts.show()\n"
   ]
  },
  {
   "cell_type": "code",
   "execution_count": 0,
   "metadata": {
    "application/vnd.databricks.v1+cell": {
     "cellMetadata": {
      "byteLimit": 2048000,
      "rowLimit": 10000
     },
     "inputWidgets": {},
     "nuid": "499256e2-a5a1-445a-a274-441ff38e7482",
     "showTitle": false,
     "title": ""
    }
   },
   "outputs": [],
   "source": [
    "from pyspark.sql.functions import col\n",
    "\n",
    "tweet_counts = df_bronze.groupBy('user').count().withColumnRenamed('count', 'tweet_count')\n",
    "tweet_counts.sort(col('tweet_count').desc()).show()"
   ]
  },
  {
   "cell_type": "code",
   "execution_count": 0,
   "metadata": {
    "application/vnd.databricks.v1+cell": {
     "cellMetadata": {
      "byteLimit": 2048000,
      "rowLimit": 10000
     },
     "inputWidgets": {},
     "nuid": "dd3ce6ef-e177-4ae4-a649-fabbc5d2a684",
     "showTitle": false,
     "title": ""
    }
   },
   "outputs": [],
   "source": [
    "# Filter the DataFrame to count tweets with mentions\n",
    "tweets_with_mentions = df_bronze.filter(col(\"text\").like(\"%@%\"))\n",
    "tweet_count_with_mentions = tweets_with_mentions.count()\n",
    "\n",
    "# Count the total number of tweets\n",
    "total_tweet_count = df_bronze.count()\n",
    "\n",
    "# Calculate the number of tweets without mentions\n",
    "tweet_count_without_mentions = total_tweet_count - tweet_count_with_mentions\n",
    "\n",
    "# Display the results\n",
    "print(\"Tweets with mentions:\", tweet_count_with_mentions)\n",
    "print(\"Tweets without mentions:\", tweet_count_without_mentions)"
   ]
  },
  {
   "cell_type": "code",
   "execution_count": 0,
   "metadata": {
    "application/vnd.databricks.v1+cell": {
     "cellMetadata": {
      "byteLimit": 2048000,
      "rowLimit": 10000
     },
     "inputWidgets": {},
     "nuid": "92c215a5-7a8d-4980-ba14-6b30244e85b5",
     "showTitle": false,
     "title": ""
    }
   },
   "outputs": [],
   "source": [
    "import matplotlib.pyplot as plt\n",
    "\n",
    "# Get the count of tweets per user\n",
    "user_counts = df_bronze.groupBy(\"user\").count()\n",
    "\n",
    "# Order by count in descending order and limit to top 20 users\n",
    "top_20_users = user_counts.orderBy(\"count\", ascending=False).limit(20).toPandas()\n",
    "\n",
    "# Plotting\n",
    "plt.figure(figsize=(10, 8))\n",
    "plt.bar(top_20_users['user'], top_20_users['count'], color='skyblue')\n",
    "plt.title('Top 20 Tweeters')\n",
    "plt.xlabel('User Handle')\n",
    "plt.ylabel('Number of Tweets')\n",
    "plt.xticks(rotation=45, ha='right')\n",
    "plt.tight_layout()\n",
    "plt.show()\n",
    "\n"
   ]
  },
  {
   "cell_type": "markdown",
   "metadata": {
    "application/vnd.databricks.v1+cell": {
     "cellMetadata": {},
     "inputWidgets": {},
     "nuid": "38c290b9-a42a-4551-857b-3f461b8a1be6",
     "showTitle": false,
     "title": ""
    }
   },
   "source": [
    "## 5.0 Transform the Bronze Data to Silver Data using a stream\n",
    "- setup a read stream on your bronze delta table\n",
    "- setup a write stream to append to the silver delta table\n",
    "- Use the defined SILVER_CHECKPOINT and SILVER_DELTA paths in the includes\n",
    "- name your bronze to silver stream as silver_stream\n",
    "- transform the bronze data to the silver data using the data definition at the top of the notebook"
   ]
  },
  {
   "cell_type": "code",
   "execution_count": 0,
   "metadata": {
    "application/vnd.databricks.v1+cell": {
     "cellMetadata": {
      "byteLimit": 2048000,
      "rowLimit": 10000
     },
     "inputWidgets": {},
     "nuid": "307892c6-95a4-42ab-b8f4-7094f356784a",
     "showTitle": false,
     "title": ""
    }
   },
   "outputs": [],
   "source": [
    "bronze_stream = spark.readStream \\\n",
    "    .format(\"delta\") \\\n",
    "    .table(\"bronze_table\")"
   ]
  },
  {
   "cell_type": "code",
   "execution_count": 0,
   "metadata": {
    "application/vnd.databricks.v1+cell": {
     "cellMetadata": {
      "byteLimit": 2048000,
      "implicitDf": true,
      "rowLimit": 10000
     },
     "inputWidgets": {},
     "nuid": "d75489a7-0f50-4465-82c7-263e6dc2958a",
     "showTitle": false,
     "title": ""
    }
   },
   "outputs": [],
   "source": [
    "%sql\n",
    "DESCRIBE HISTORY bronze_table;"
   ]
  },
  {
   "cell_type": "code",
   "execution_count": 0,
   "metadata": {
    "application/vnd.databricks.v1+cell": {
     "cellMetadata": {
      "byteLimit": 2048000,
      "rowLimit": 10000
     },
     "inputWidgets": {},
     "nuid": "65b029cb-ba45-4625-a9c1-d0d410a4962b",
     "showTitle": false,
     "title": ""
    }
   },
   "outputs": [],
   "source": [
    "from pyspark.sql.functions import udf, col, from_unixtime, unix_timestamp, regexp_replace, explode\n",
    "from pyspark.sql.types import ArrayType, StringType\n",
    "import re\n",
    "\n",
    "# Define the UDF to extract mentions\n",
    "def extract_mentions(text):\n",
    "    return re.findall(r\"@(\\w+)\", text)  # Extract usernames without '@'\n",
    "\n",
    "# Register the UDF\n",
    "extract_mentions_udf = udf(extract_mentions, ArrayType(StringType()))\n",
    "\n",
    "# Use the UDF in the DataFrame transformation\n",
    "silver_stream = bronze_stream.select(\n",
    "    from_unixtime(unix_timestamp(col(\"date\"), \"EEE MMM dd HH:mm:ss z yyyy\")).alias(\"timestamp\"),\n",
    "    regexp_replace(col(\"text\"), \"@[\\w]+\", \"\").alias(\"cleaned_text\"),\n",
    "    col(\"sentiment\"),\n",
    "    extract_mentions_udf(col(\"text\")).alias(\"mentions\")\n",
    ").withColumn(\"mention\", explode(col(\"mentions\"))).drop(\"mentions\")\n",
    "  # Optional: drop the original mentions column if no longer needed\n",
    "\n",
    "\n",
    "\n"
   ]
  },
  {
   "cell_type": "code",
   "execution_count": 0,
   "metadata": {
    "application/vnd.databricks.v1+cell": {
     "cellMetadata": {
      "byteLimit": 2048000,
      "rowLimit": 10000
     },
     "inputWidgets": {},
     "nuid": "1e948ff4-7afc-4fd7-89d8-a6d50a80be7e",
     "showTitle": false,
     "title": ""
    }
   },
   "outputs": [],
   "source": [
    "silver_stream_writer = silver_stream \\\n",
    "    .writeStream \\\n",
    "    .format(\"delta\") \\\n",
    "    .outputMode(\"append\") \\\n",
    "    .option(\"checkpointLocation\", SILVER_CHECKPOINT) \\\n",
    "    .option(\"path\", SILVER_DELTA) \\\n",
    "    .table(\"silver_str\")\n"
   ]
  },
  {
   "cell_type": "markdown",
   "metadata": {
    "application/vnd.databricks.v1+cell": {
     "cellMetadata": {},
     "inputWidgets": {},
     "nuid": "9ee38aba-e340-4766-8339-71ef2ecfde3a",
     "showTitle": false,
     "title": ""
    }
   },
   "source": [
    "## 6.0 Transform the Silver Data to Gold Data using a stream\n",
    "- setup a read stream on your silver delta table\n",
    "- setup a write stream to append to the gold delta table\n",
    "- Use the defined GOLD_CHECKPOINT and GOLD_DELTA paths defines in the includes\n",
    "- name your silver to gold stream as gold_stream\n",
    "- transform the silver data to the gold data using the data definition at the top of the notebook\n",
    "- Load the pretrained transformer sentiment classifier from the MODEL_NAME at the production level from the MLflow registry\n",
    "- Use a spark UDF to parallelize the inference across your silver data"
   ]
  },
  {
   "cell_type": "code",
   "execution_count": 0,
   "metadata": {
    "application/vnd.databricks.v1+cell": {
     "cellMetadata": {
      "byteLimit": 2048000,
      "rowLimit": 10000
     },
     "inputWidgets": {},
     "nuid": "78b9dcb0-95f9-42d9-a409-5710c6da5b27",
     "showTitle": false,
     "title": ""
    }
   },
   "outputs": [],
   "source": [
    "# Setup a read stream on the silver Delta table\n",
    "silver_stream = spark.readStream \\\n",
    "    .format(\"delta\") \\\n",
    "    .table(\"silver_str\")\n"
   ]
  },
  {
   "cell_type": "code",
   "execution_count": 0,
   "metadata": {
    "application/vnd.databricks.v1+cell": {
     "cellMetadata": {
      "byteLimit": 2048000,
      "rowLimit": 10000
     },
     "inputWidgets": {},
     "nuid": "a66130ef-b3cb-4c76-ae15-f43b53eea23a",
     "showTitle": false,
     "title": ""
    }
   },
   "outputs": [],
   "source": [
    "from mlflow.pyfunc import *\n",
    "sentiment_analysis_udf = mlflow.pyfunc.spark_udf(spark, \"models:/HF_TWEET_SENTIMENT/Production\")"
   ]
  },
  {
   "cell_type": "code",
   "execution_count": 0,
   "metadata": {
    "application/vnd.databricks.v1+cell": {
     "cellMetadata": {
      "byteLimit": 2048000,
      "rowLimit": 10000
     },
     "inputWidgets": {},
     "nuid": "31e8949d-c016-44a7-9f03-65f471dfd22d",
     "showTitle": false,
     "title": ""
    }
   },
   "outputs": [],
   "source": [
    "# Assuming sentiment_analysis_udf generates predictions.label and predictions.score columns\n",
    "gold_stream = (\n",
    "    silver_stream\n",
    "    .withColumn(\"predictions\", sentiment_analysis_udf(col(\"cleaned_text\")))\n",
    "    .select(\n",
    "        col(\"timestamp\"),\n",
    "        col(\"mention\"),\n",
    "        col(\"cleaned_text\"),\n",
    "        col(\"sentiment\"),\n",
    "        col(\"predictions.label\").alias(\"predicted_sentiment\"),  # Renamed for clarity\n",
    "        col(\"predictions.score\").alias(\"predicted_sentiment_score\"),   # Renamed for clarity\n",
    "        when(col(\"sentiment\") == \"negative\", 0).otherwise(1).alias(\"sentiment_id\"),\n",
    "        when(col(\"predictions.label\") == \"NEG\", 0).otherwise(1).alias(\"predicted_sentiment_id\")\n",
    "    )\n",
    ")\n"
   ]
  },
  {
   "cell_type": "code",
   "execution_count": 0,
   "metadata": {
    "application/vnd.databricks.v1+cell": {
     "cellMetadata": {
      "byteLimit": 2048000,
      "rowLimit": 10000
     },
     "inputWidgets": {},
     "nuid": "576447ed-9c7b-4ec8-95f0-4b06e6cf40d6",
     "showTitle": false,
     "title": ""
    }
   },
   "outputs": [],
   "source": [
    "# Setup a write stream to append to the Gold Delta table\n",
    "gold_stream.writeStream \\\n",
    "    .format(\"delta\") \\\n",
    "    .outputMode(\"append\") \\\n",
    "    .option(\"ignoreDeletes\", \"true\") \\\n",
    "    .option(\"checkpointLocation\", GOLD_CHECKPOINT) \\\n",
    "    .option(\"path\", GOLD_DELTA) \\\n",
    "    .table(\"gold_stream\")\n"
   ]
  },
  {
   "cell_type": "markdown",
   "metadata": {
    "application/vnd.databricks.v1+cell": {
     "cellMetadata": {},
     "inputWidgets": {},
     "nuid": "0494d8b4-5a55-47fc-af12-47325f34a303",
     "showTitle": false,
     "title": ""
    }
   },
   "source": [
    "## 7.0 Capture the accuracy metrics from the gold table in MLflow\n",
    "Store the following in an MLflow experiment run:\n",
    "- Store the precision, recall, and F1-score as MLflow metrics\n",
    "- Store an image of the confusion matrix as an MLflow artifact\n",
    "- Store the mdoel name and the MLflow version that was used as an MLflow parameters\n",
    "- Store the version of the Delta Table (input-silver) as an MLflow parameter"
   ]
  },
  {
   "cell_type": "code",
   "execution_count": 0,
   "metadata": {
    "application/vnd.databricks.v1+cell": {
     "cellMetadata": {
      "byteLimit": 2048000,
      "implicitDf": true,
      "rowLimit": 10000
     },
     "inputWidgets": {},
     "nuid": "3bb174ad-67e4-4b0a-be36-ff20a760ee8b",
     "showTitle": false,
     "title": ""
    }
   },
   "outputs": [],
   "source": [
    "# Read the golden delta table\n",
    "df = spark.read.format(\"delta\").table(\"gold_stream\")\n",
    "\n",
    "# Convert DataFrame to Pandas for easier manipulation in Python\n",
    "pdf = df.toPandas()\n",
    "\n",
    "\n",
    "# Calculate metrics\n",
    "precision = precision_score(pdf['sentiment_id'], pdf['predicted_sentiment_id'])\n",
    "recall = recall_score(pdf['sentiment_id'], pdf['predicted_sentiment_id'])\n",
    "f1 = f1_score(pdf['sentiment_id'], pdf['predicted_sentiment_id'])\n",
    "\n",
    "# Generate confusion matrix\n",
    "conf_matrix = confusion_matrix(pdf['sentiment_id'], pdf['predicted_sentiment_id'])"
   ]
  },
  {
   "cell_type": "code",
   "execution_count": 0,
   "metadata": {
    "application/vnd.databricks.v1+cell": {
     "cellMetadata": {
      "byteLimit": 2048000,
      "rowLimit": 10000
     },
     "inputWidgets": {},
     "nuid": "0bca72dd-d1b0-4c37-8b70-7fb9dfc6f7ee",
     "showTitle": false,
     "title": ""
    }
   },
   "outputs": [],
   "source": [
    "# Start an MLflow run\n",
    "with mlflow.start_run():\n",
    "    # Log metrics\n",
    "    mlflow.log_metric(\"Precision\", precision)\n",
    "    mlflow.log_metric(\"Recall\", recall)\n",
    "    mlflow.log_metric(\"F1 Score\", f1)\n",
    "\n",
    "    # Log parameters\n",
    "    mlflow.log_param(\"Model Name\", \"Hugging Face Sentiment Transformer\")\n",
    "    mlflow.log_param(\"MLflow Version\", mlflow.__version__)\n",
    "    mlflow.log_param(\"Delta Table Version\", \"Version X\")\n",
    "\n",
    "    # Plot and save confusion matrix\n",
    "    plt.figure(figsize=(10, 7))\n",
    "    disp = ConfusionMatrixDisplay(conf_matrix, display_labels=['Negative', 'Positive'])\n",
    "    disp.plot(values_format='d')\n",
    "    plt.title('Confusion Matrix')\n",
    "    plt.savefig(\"/tmp/confusion_matrix.png\")\n",
    "    \n",
    "    # Log confusion matrix as an artifact\n",
    "    mlflow.log_artifact(\"/tmp/confusion_matrix.png\")\n"
   ]
  },
  {
   "cell_type": "markdown",
   "metadata": {
    "application/vnd.databricks.v1+cell": {
     "cellMetadata": {},
     "inputWidgets": {},
     "nuid": "81e0e2de-b872-4698-81cc-1669646c2183",
     "showTitle": false,
     "title": ""
    }
   },
   "source": [
    "## 8.0 Application Data Processing and Visualization\n",
    "- How many mentions are there in the gold data total?\n",
    "- Count the number of neutral, positive and negative tweets for each mention in new columns\n",
    "- Capture the total for each mention in a new column\n",
    "- Sort the mention count totals in descending order\n",
    "- Plot a bar chart of the top 20 mentions with positive sentiment (the people who are in favor)\n",
    "- Plot a bar chart of the top 20 mentions with negative sentiment (the people who are the vilians)\n",
    "\n",
    "You may want to use the \"Loop Application\" widget to control whether you repeateded display the latest plots while the data comes in from your streams before moving on to the next section and cleaning up your run.\n",
    "\n",
    "*note: A mention is a specific twitter user that has been \"mentioned\" in a tweet with an @user reference."
   ]
  },
  {
   "cell_type": "code",
   "execution_count": 0,
   "metadata": {
    "application/vnd.databricks.v1+cell": {
     "cellMetadata": {
      "byteLimit": 2048000,
      "implicitDf": true,
      "rowLimit": 10000
     },
     "inputWidgets": {},
     "nuid": "8250667b-eaa5-48a1-90c7-bfe11e666e32",
     "showTitle": false,
     "title": ""
    }
   },
   "outputs": [],
   "source": [
    "# Load the gold data table using Delta format\n",
    "gold_data_final = spark.read.format(\"delta\").table(\"gold_stream\")\n",
    "\n",
    "# Count the total number of unique mentions in the gold data\n",
    "total_mentions = gold_data_final.select(\"mention\").distinct().count()\n",
    "\n",
    "print(f\"Total number of unique mentions: {total_mentions}\")\n"
   ]
  },
  {
   "cell_type": "code",
   "execution_count": 0,
   "metadata": {
    "application/vnd.databricks.v1+cell": {
     "cellMetadata": {
      "byteLimit": 2048000,
      "rowLimit": 10000
     },
     "inputWidgets": {},
     "nuid": "abe99345-823c-4eb1-bd96-8bdf16ec6e3e",
     "showTitle": false,
     "title": ""
    }
   },
   "outputs": [],
   "source": [
    "from pyspark.sql.functions import col, sum, when\n",
    "\n",
    "# Load the gold data table\n",
    "\n",
    "\n",
    "# Aggregate counts of negative, positive, and neutral sentiments for each mention\n",
    "sentiment_counts = gold_data_final.groupBy(\"mention\").agg(\n",
    "    sum(when(col(\"Predicted_sentiment\") == \"NEG\", 1).otherwise(0)).alias(\"negative_count\"),\n",
    "    sum(when(col(\"Predicted_sentiment\") == \"POS\", 1).otherwise(0)).alias(\"positive_count\"),\n",
    "    sum(when(col(\"Predicted_sentiment\") == \"NEU\", 1).otherwise(0)).alias(\"neutral_count\")\n",
    ")\n",
    "\n",
    "# Calculate the total count of sentiments for each mention\n",
    "total_counts = sentiment_counts.withColumn(\n",
    "    \"total_mentions\", \n",
    "    col(\"negative_count\") + col(\"positive_count\") + col(\"neutral_count\")\n",
    ")\n",
    "\n",
    "# Display the DataFrame with the counts\n",
    "display(total_counts)\n"
   ]
  },
  {
   "cell_type": "code",
   "execution_count": 0,
   "metadata": {
    "application/vnd.databricks.v1+cell": {
     "cellMetadata": {
      "byteLimit": 2048000,
      "rowLimit": 10000
     },
     "inputWidgets": {},
     "nuid": "c3aac63c-b6d9-40d1-b3d1-ab121ceea6c6",
     "showTitle": false,
     "title": ""
    }
   },
   "outputs": [],
   "source": [
    "# Assuming total_sentiment_counts is a DataFrame with columns \"mention\", \"total_mentions\", \"positive_count\", and \"negative_count\"\n",
    "# Sort mentions by total counts in descending order\n",
    "mentions_sorted_by_total = total_counts.orderBy(col(\"total_mentions\"), ascending=False)\n",
    "\n",
    "# Get the top 20 mentions with the highest positive sentiment counts\n",
    "top_20_positive = mentions_sorted_by_total.orderBy(col(\"positive_count\").desc()).limit(20)\n",
    "\n",
    "# Get the top 20 mentions with the highest negative sentiment counts\n",
    "top_20_negative = mentions_sorted_by_total.orderBy(col(\"negative_count\").desc()).limit(20)\n",
    "\n",
    "# Convert to Pandas DataFrames for visualization\n",
    "positive_mentions_df = top_20_positive.toPandas()\n",
    "negative_mentions_df = top_20_negative.toPandas()\n",
    "\n",
    "# Create a bar chart for the top 20 mentions with positive sentiment\n",
    "plt.figure(figsize=(10, 5))\n",
    "plt.bar(positive_mentions_df['mention'], positive_mentions_df['positive_count'], color='green')\n",
    "plt.title('Top 20 Mentions by Positive Sentiment')\n",
    "plt.xlabel('Mentions')\n",
    "plt.ylabel('Count of Positive Sentiments')\n",
    "plt.xticks(rotation=45)\n",
    "plt.tight_layout()\n",
    "plt.show()\n",
    "\n",
    "# Create a bar chart for the top 20 mentions with negative sentiment\n",
    "plt.figure(figsize=(10, 5))\n",
    "plt.bar(negative_mentions_df['mention'], negative_mentions_df['negative_count'], color='red')\n",
    "plt.title('Top 20 Mentions by Negative Sentiment')\n",
    "plt.xlabel('Mentions')\n",
    "plt.ylabel('Count of Negative Sentiments')\n",
    "plt.xticks(rotation=45)\n",
    "plt.tight_layout()\n",
    "plt.show()\n",
    "\n"
   ]
  },
  {
   "cell_type": "markdown",
   "metadata": {
    "application/vnd.databricks.v1+cell": {
     "cellMetadata": {},
     "inputWidgets": {},
     "nuid": "5d5add3f-0c13-4d81-86d8-12cf3cfdd2c8",
     "showTitle": false,
     "title": ""
    }
   },
   "source": [
    "## 9.0 Clean up and completion of your pipeline\n",
    "- using the utilities what streams are running? If any.\n",
    "- Stop all active streams\n",
    "- print out the elapsed time of your notebook."
   ]
  },
  {
   "cell_type": "code",
   "execution_count": 0,
   "metadata": {
    "application/vnd.databricks.v1+cell": {
     "cellMetadata": {
      "byteLimit": 2048000,
      "rowLimit": 10000
     },
     "inputWidgets": {},
     "nuid": "76e86ce4-d735-446d-86b6-567a292b46e7",
     "showTitle": false,
     "title": ""
    }
   },
   "outputs": [],
   "source": [
    "import time\n",
    "\n",
    "stop_all_streams()\n",
    "\n",
    "start_time = time.time()\n",
    "\n",
    "# Your notebook code goes here\n",
    "\n",
    "elapsed_time = time.time() - start_time\n",
    "print(\"Elapsed time:\", elapsed_time, \"seconds\")"
   ]
  },
  {
   "cell_type": "code",
   "execution_count": 0,
   "metadata": {
    "application/vnd.databricks.v1+cell": {
     "cellMetadata": {
      "byteLimit": 2048000,
      "rowLimit": 10000
     },
     "inputWidgets": {},
     "nuid": "b9bcf039-34ce-4568-9117-87418bfa4d59",
     "showTitle": false,
     "title": ""
    }
   },
   "outputs": [],
   "source": [
    "import shutil \n",
    "shutil.rmtree(SILVER_CHECKPOINT)\n",
    "shutil.rmtree(GOLD_CHECKPOINT)"
   ]
  },
  {
   "cell_type": "markdown",
   "metadata": {
    "application/vnd.databricks.v1+cell": {
     "cellMetadata": {},
     "inputWidgets": {},
     "nuid": "0304e685-c26e-447d-b230-c37266f30003",
     "showTitle": false,
     "title": ""
    }
   },
   "source": [
    "from pyspark.sql import SparkSession\n",
    "import shutil\n",
    "import time\n",
    "\n",
    "# Assuming stop_all_streams() is defined elsewhere\n",
    "\n",
    "# Assuming START_TIME is defined elsewhere\n",
    "START_TIME = time.time()\n",
    "\n",
    "# Spark Session\n",
    "spark = SparkSession.builder \\\n",
    "    .appName(\"Delete Delta and Checkpoints\") \\\n",
    "    .getOrCreate()\n",
    "\n",
    "def delete_delta_and_checkpoints(delta_path, checkpoint_path):\n",
    "    # Delete Delta Table Path\n",
    "    try:\n",
    "        shutil.rmtree(delta_path)\n",
    "        print(f\"Deleted delta table at {delta_path}\")\n",
    "    except Exception as e:\n",
    "        print(f\"Error deleting delta table at {delta_path}: {str(e)}\")\n",
    "\n",
    "    # Delete Checkpoint Path\n",
    "    try:\n",
    "        shutil.rmtree(checkpoint_path)\n",
    "        print(f\"Deleted checkpoint at {checkpoint_path}\")\n",
    "    except Exception as e:\n",
    "        print(f\"Error deleting checkpoint at {checkpoint_path}: {str(e)}\")\n",
    "\n",
    "# Assuming GOLD_DELTA and GOLD_CHECKPOINT are defined elsewhere\n",
    "delta_table_path = \"/path/to/gold/delta\"\n",
    "checkpoint_path = \"/path/to/gold/checkpoint\"\n",
    "\n",
    "delete_delta_and_checkpoints(BRONZE_DELTA,BRONZE_CHECKPOINT)\n",
    "delete_delta_and_checkpoints(SILVER_DELTA,SILVER_CHECKPOINT)\n",
    "delete_delta_and_checkpoints(GOLD_DELTA,GOLD_CHECKPOINT)\n"
   ]
  },
  {
   "cell_type": "code",
   "execution_count": 0,
   "metadata": {
    "application/vnd.databricks.v1+cell": {
     "cellMetadata": {
      "byteLimit": 2048000,
      "rowLimit": 10000
     },
     "inputWidgets": {},
     "nuid": "ea759fc8-1d78-4d6d-b571-e2e256448b76",
     "showTitle": false,
     "title": ""
    }
   },
   "outputs": [],
   "source": [
    "# Get the notebooks ending time note START_TIME was established in the include file when the notebook started.\n",
    "END_TIME = time.time()"
   ]
  },
  {
   "cell_type": "markdown",
   "metadata": {
    "application/vnd.databricks.v1+cell": {
     "cellMetadata": {},
     "inputWidgets": {},
     "nuid": "b88fc0e5-f50c-4ed1-9480-16a4c8a44b30",
     "showTitle": false,
     "title": ""
    }
   },
   "source": [
    "## 10.0 How Optimized is your Spark Application (Grad Students Only)\n",
    "Graduate students (registered for the DSCC-402 section of the course) are required to do this section.  This is a written analysis using the Spark UI (link to screen shots) that support your analysis of your pipelines execution and what is driving its performance.\n",
    "Recall that Spark Optimization has 5 significant dimensions of considertation:\n",
    "- Spill: write to executor disk due to lack of memory\n",
    "- Skew: imbalance in partition size\n",
    "- Shuffle: network io moving data between executors (wide transforms)\n",
    "- Storage: inefficiency due to disk storage format (small files, location)\n",
    "- Serialization: distribution of code segments across the cluster\n",
    "\n",
    "Comment on each of the dimentions of performance and how your impelementation is or is not being affected.  Use specific information in the Spark UI to support your description.  \n",
    "\n",
    "Note: you can take sreenshots of the Spark UI from your project runs in databricks and then link to those pictures by storing them as a publicly accessible file on your cloud drive (google, one drive, etc.)\n",
    "\n",
    "References:\n",
    "- [Spark UI Reference Reference](https://spark.apache.org/docs/latest/web-ui.html#web-ui)\n",
    "- [Spark UI Simulator](https://www.databricks.training/spark-ui-simulator/index.html)"
   ]
  },
  {
   "cell_type": "markdown",
   "metadata": {
    "application/vnd.databricks.v1+cell": {
     "cellMetadata": {},
     "inputWidgets": {},
     "nuid": "a0a5707d-a5ca-4e87-9e74-3b13d00337b0",
     "showTitle": false,
     "title": ""
    }
   },
   "source": []
  },
  {
   "cell_type": "markdown",
   "metadata": {
    "application/vnd.databricks.v1+cell": {
     "cellMetadata": {},
     "inputWidgets": {},
     "nuid": "a9e2c7b2-72d5-4637-a3b6-02fc15d02ccd",
     "showTitle": false,
     "title": ""
    }
   },
   "source": [
    "\"Question 6 presented a significant challenge for me, involving the creation of gold-level data from silver-level data within the Mandelion architecture. Now, I'm aiming to conduct Spark optimization analysis on this process.\n",
    "\n",
    "For starters, I'll inspect the Spark UI's 'Storage' tab to identify instances where data spillage to disk occurs due to memory constraints. This will be evident in metrics like 'Memory Spill' and 'Disk Spill,' while also keeping an eye on Twitter data measures, particularly cache hit ratio, which appears to be remarkably low.\n",
    "\n",
    "Moving on, I'll address skew concerns by examining the 'Stages' tab. Any significant discrepancies in task execution times might signal data skew issues, possibly caused by certain tasks processing disproportionately larger volumes of data. Additionally, I'll check the data distribution across partitions to identify potential skew using the 'Storage' tab.\n",
    "\n",
    "Shuffle operations are another critical aspect to consider, as they often pose a bottleneck. By scrutinizing the 'Stages' tab for metrics like 'Shuffle Read' and 'Shuffle Write,' I'll pinpoint stages with high shuffle read/write times, indicating their impact on overall job runtime.\n",
    "\n",
    "Furthermore, I'll assess storage inefficiencies, such as small files or suboptimal data formats, using the 'Storage' tab. This analysis will help me identify performance-hindering issues caused by factors like numerous small files or uncompressed data formats.\n",
    "\n",
    "Lastly, I'll pay close attention to serialization concerns, which could arise from inefficient data transfer between executors or suboptimal serialization formats. By examining serialization/deserialization times under the 'Tasks' tab, I can pinpoint any bottlenecks resulting from serialization issues.\"\n"
   ]
  }
 ],
 "metadata": {
  "application/vnd.databricks.v1+notebook": {
   "dashboards": [],
   "language": "python",
   "notebookMetadata": {
    "mostRecentlyExecutedCommandWithImplicitDF": {
     "commandId": 1599202439943946,
     "dataframes": [
      "_sqldf"
     ]
    },
    "pythonIndentUnit": 4,
    "widgetLayout": [
     {
      "breakBefore": false,
      "name": "clear_previous_run",
      "width": 203
     },
     {
      "breakBefore": false,
      "name": "stop_streams",
      "width": 203
     }
    ]
   },
   "notebookName": "Starter Streaming Tweet Sentiment - Spring 2024 Final Project (1)",
   "widgets": {
    "clear_previous_run": {
     "currentValue": "No",
     "nuid": "11b43403-c70f-41ef-ab0e-41172583baaa",
     "typedWidgetInfo": null,
     "widgetInfo": {
      "widgetType": "dropdown",
      "defaultValue": "No",
      "label": null,
      "name": "clear_previous_run",
      "options": {
       "widgetType": "dropdown",
       "autoCreated": null,
       "choices": [
        "No",
        "Yes"
       ]
      }
     }
    },
    "optimize_tables": {
     "currentValue": "No",
     "nuid": "d27f2950-3146-4010-8bc6-58c47a93e7a9",
     "typedWidgetInfo": null,
     "widgetInfo": {
      "widgetType": "dropdown",
      "defaultValue": "No",
      "label": null,
      "name": "optimize_tables",
      "options": {
       "widgetType": "dropdown",
       "autoCreated": null,
       "choices": [
        "No",
        "Yes"
       ]
      }
     }
    },
    "stop_streams": {
     "currentValue": "Yes",
     "nuid": "d70a2190-266e-473c-86a7-84f7bf56b386",
     "typedWidgetInfo": null,
     "widgetInfo": {
      "widgetType": "dropdown",
      "defaultValue": "No",
      "label": null,
      "name": "stop_streams",
      "options": {
       "widgetType": "dropdown",
       "autoCreated": null,
       "choices": [
        "No",
        "Yes"
       ]
      }
     }
    }
   }
  }
 },
 "nbformat": 4,
 "nbformat_minor": 0
}
